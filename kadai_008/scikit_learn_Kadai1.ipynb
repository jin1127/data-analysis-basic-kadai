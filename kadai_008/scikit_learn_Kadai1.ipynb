{
  "nbformat": 4,
  "nbformat_minor": 0,
  "metadata": {
    "colab": {
      "provenance": []
    },
    "kernelspec": {
      "name": "python3",
      "display_name": "Python 3"
    },
    "language_info": {
      "name": "python"
    }
  },
  "cells": [
    {
      "cell_type": "code",
      "execution_count": 1,
      "metadata": {
        "id": "Y3P1VXD8umPr"
      },
      "outputs": [],
      "source": [
        "# データのロード\n",
        "from sklearn.datasets import load_wine\n",
        "dataset = load_wine()\n",
        "X = dataset.data\n",
        "y = dataset.target"
      ]
    },
    {
      "cell_type": "code",
      "source": [
        "# 学習用のデータとテスト（正解）データの振り分け\n",
        "from sklearn.model_selection import train_test_split\n",
        "\n",
        "X_train, X_test, y_train, y_test = train_test_split(X, y, test_size=0.3, random_state=5)\n",
        "print(X.shape, X_train.shape, X_test.shape, y.shape, y_train.shape, y_test.shape)"
      ],
      "metadata": {
        "colab": {
          "base_uri": "https://localhost:8080/"
        },
        "id": "vOMBXK42vn0U",
        "outputId": "e742e49c-8791-4ec9-8ced-67b8f38ceac4"
      },
      "execution_count": 2,
      "outputs": [
        {
          "output_type": "stream",
          "name": "stdout",
          "text": [
            "(178, 13) (124, 13) (54, 13) (178,) (124,) (54,)\n"
          ]
        }
      ]
    },
    {
      "cell_type": "code",
      "source": [
        "# 各モデルの import\n",
        "from sklearn.tree import DecisionTreeClassifier\n",
        "from sklearn.ensemble import RandomForestClassifier\n",
        "from sklearn.linear_model import LogisticRegression\n",
        "from sklearn.ensemble import GradientBoostingClassifier\n",
        "\n",
        "from sklearn.metrics import accuracy_score"
      ],
      "metadata": {
        "id": "UyXIAX6QzYW_"
      },
      "execution_count": 3,
      "outputs": []
    },
    {
      "cell_type": "code",
      "source": [
        "# 決定木, ランダムフォレスト, ロジスティック回帰, 勾配ブースティング木\n",
        "modelList = [DecisionTreeClassifier(random_state=3), RandomForestClassifier(random_state=3), LogisticRegression(random_state=3, max_iter=2500),\n",
        "             GradientBoostingClassifier(random_state=3)]\n",
        "for model in modelList:\n",
        "  print(\"#### \" + str(model) + \" ####\")\n",
        "  model.fit(X_train, y_train)\n",
        "  y_pred = model.predict(X_test)\n",
        "  print(\"y_pred = \" + str(y_pred))\n",
        "  print(\"y_test = \" + str(y_test))\n",
        "  score = accuracy_score(y_test, y_pred)\n",
        "  print(\"score = \" + str(score))\n",
        "  print()"
      ],
      "metadata": {
        "colab": {
          "base_uri": "https://localhost:8080/"
        },
        "id": "3QN6JWbmzgyx",
        "outputId": "ec445fb8-b1db-449b-eeac-1215032679a6"
      },
      "execution_count": 4,
      "outputs": [
        {
          "output_type": "stream",
          "name": "stdout",
          "text": [
            "#### DecisionTreeClassifier(random_state=3) ####\n",
            "y_pred = [0 1 0 0 2 2 0 0 1 1 0 0 2 1 2 0 1 1 1 0 0 0 1 1 1 1 0 2 2 0 1 1 0 0 2 2 0\n",
            " 2 2 0 1 2 2 0 2 1 0 2 0 1 0 1 1 0]\n",
            "y_test = [0 1 0 0 2 2 0 0 1 0 0 0 2 1 2 0 1 0 1 0 0 0 1 1 1 1 0 2 2 0 1 1 0 0 2 2 0\n",
            " 2 2 1 1 1 2 0 2 1 0 2 0 1 0 1 1 0]\n",
            "score = 0.9259259259259259\n",
            "\n",
            "#### RandomForestClassifier(random_state=3) ####\n",
            "y_pred = [0 1 0 0 2 2 0 0 1 0 0 0 2 1 2 0 1 0 1 1 0 0 1 1 1 1 0 2 2 0 1 1 0 0 2 2 0\n",
            " 2 2 1 1 2 2 0 2 1 0 2 0 1 0 1 1 0]\n",
            "y_test = [0 1 0 0 2 2 0 0 1 0 0 0 2 1 2 0 1 0 1 0 0 0 1 1 1 1 0 2 2 0 1 1 0 0 2 2 0\n",
            " 2 2 1 1 1 2 0 2 1 0 2 0 1 0 1 1 0]\n",
            "score = 0.9629629629629629\n",
            "\n",
            "#### LogisticRegression(max_iter=2500, random_state=3) ####\n",
            "y_pred = [0 1 0 0 2 2 0 0 1 1 0 0 2 1 2 0 1 0 1 0 0 0 1 1 1 1 0 1 2 0 1 1 0 0 2 2 0\n",
            " 2 2 1 1 2 2 0 2 1 0 2 0 1 0 1 1 0]\n",
            "y_test = [0 1 0 0 2 2 0 0 1 0 0 0 2 1 2 0 1 0 1 0 0 0 1 1 1 1 0 2 2 0 1 1 0 0 2 2 0\n",
            " 2 2 1 1 1 2 0 2 1 0 2 0 1 0 1 1 0]\n",
            "score = 0.9444444444444444\n",
            "\n",
            "#### GradientBoostingClassifier(random_state=3) ####\n",
            "y_pred = [0 1 0 0 2 2 0 0 1 1 0 0 2 1 2 0 1 1 1 0 0 0 1 1 1 1 0 2 2 0 1 1 0 0 2 2 0\n",
            " 2 2 1 1 2 1 0 2 1 0 2 0 1 0 1 1 0]\n",
            "y_test = [0 1 0 0 2 2 0 0 1 0 0 0 2 1 2 0 1 0 1 0 0 0 1 1 1 1 0 2 2 0 1 1 0 0 2 2 0\n",
            " 2 2 1 1 1 2 0 2 1 0 2 0 1 0 1 1 0]\n",
            "score = 0.9259259259259259\n",
            "\n"
          ]
        }
      ]
    },
    {
      "cell_type": "code",
      "source": [],
      "metadata": {
        "id": "llyZfFTH0Xy1"
      },
      "execution_count": 4,
      "outputs": []
    }
  ]
}